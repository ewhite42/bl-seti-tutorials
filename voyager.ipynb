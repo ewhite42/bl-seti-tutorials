{
 "cells": [
  {
   "cell_type": "code",
   "execution_count": 2,
   "metadata": {},
   "outputs": [
    {
     "name": "stdout",
     "output_type": "stream",
     "text": [
      "\n",
      "--- File Info ---\n",
      "    telescope_id :                                6\n",
      "     rawdatafile : ./blc3_2bit_guppi_57386_VOYAGER1_0004.0000.raw\n",
      "     source_name :                         VOYAGER1\n",
      "   tstart (ISOT) :          2015-12-30T20:45:28.000\n",
      "    tstart (MJD) :                    57386.8649074\n",
      "       data_type :                                1\n",
      "          nchans :                         66060288\n",
      "           ibeam :                                1\n",
      "           tsamp :                      105.6964608\n",
      "            foff :           -2.838316417875744e-06\n",
      "         src_raj :                     17:11:58.728\n",
      "         src_dej :                      11:56:57.48\n",
      "          nbeams :                                1\n",
      "        az_start :                              0.0\n",
      "            fch1 :                8588.964842330843\n",
      "        za_start :                              0.0\n",
      "      machine_id :                               20\n",
      "            nifs :                                1\n",
      "           nbits :                               32\n",
      "\n",
      "Num ints in file :                                2\n",
      "      File shape :                 (2, 1, 66060288)\n",
      "--- Selection Info ---\n",
      "Data selection shape :                 (2, 1, 66060288)\n",
      "Minimum freq (MHz) :                    8401.46484233\n",
      "Maximum freq (MHz) :                    8588.96484233\n"
     ]
    }
   ],
   "source": [
    "%matplotlib inline\n",
    "\n",
    "import pylab as plt\n",
    "from blimpy import Waterfall\n",
    "import numpy as np\n",
    "\n",
    "obs = Waterfall('/home/ewhite/bl-seti-tutorials/voyager_f1032192_t300_v2.fil')\n",
    "obs.info()"
   ]
  }
 ],
 "metadata": {
  "kernelspec": {
   "display_name": "Python 2",
   "language": "python",
   "name": "python2"
  },
  "language_info": {
   "codemirror_mode": {
    "name": "ipython",
    "version": 2
   },
   "file_extension": ".py",
   "mimetype": "text/x-python",
   "name": "python",
   "nbconvert_exporter": "python",
   "pygments_lexer": "ipython2",
   "version": "2.7.15rc1"
  }
 },
 "nbformat": 4,
 "nbformat_minor": 2
}
